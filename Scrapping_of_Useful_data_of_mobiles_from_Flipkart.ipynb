{
  "nbformat": 4,
  "nbformat_minor": 0,
  "metadata": {
    "colab": {
      "provenance": [],
      "include_colab_link": true
    },
    "kernelspec": {
      "name": "python3",
      "display_name": "Python 3"
    },
    "language_info": {
      "name": "python"
    }
  },
  "cells": [
    {
      "cell_type": "markdown",
      "metadata": {
        "id": "view-in-github",
        "colab_type": "text"
      },
      "source": [
        "<a href=\"https://colab.research.google.com/github/shorya-ag/MiniProject_ScrppingRawData/blob/main/Scrapping_of_Useful_data_of_mobiles_from_Flipkart.ipynb\" target=\"_parent\"><img src=\"https://colab.research.google.com/assets/colab-badge.svg\" alt=\"Open In Colab\"/></a>"
      ]
    },
    {
      "cell_type": "markdown",
      "source": [
        "#1\n",
        "###Install Beautiful Soup Library"
      ],
      "metadata": {
        "id": "M0_hO4vZ32Zf"
      }
    },
    {
      "cell_type": "code",
      "execution_count": null,
      "metadata": {
        "id": "1GikjUKlNRpN",
        "colab": {
          "base_uri": "https://localhost:8080/"
        },
        "outputId": "30041d41-4a35-4343-c89c-5cad01361615"
      },
      "outputs": [
        {
          "output_type": "stream",
          "name": "stdout",
          "text": [
            "Requirement already satisfied: requests in /usr/local/lib/python3.10/dist-packages (2.27.1)\n",
            "Requirement already satisfied: beautifulsoup4 in /usr/local/lib/python3.10/dist-packages (4.11.2)\n",
            "Requirement already satisfied: urllib3<1.27,>=1.21.1 in /usr/local/lib/python3.10/dist-packages (from requests) (1.26.16)\n",
            "Requirement already satisfied: certifi>=2017.4.17 in /usr/local/lib/python3.10/dist-packages (from requests) (2023.5.7)\n",
            "Requirement already satisfied: charset-normalizer~=2.0.0 in /usr/local/lib/python3.10/dist-packages (from requests) (2.0.12)\n",
            "Requirement already satisfied: idna<4,>=2.5 in /usr/local/lib/python3.10/dist-packages (from requests) (3.4)\n",
            "Requirement already satisfied: soupsieve>1.2 in /usr/local/lib/python3.10/dist-packages (from beautifulsoup4) (2.4.1)\n"
          ]
        }
      ],
      "source": [
        "# Install libraries if required\n",
        "\n",
        "!pip install requests beautifulsoup4"
      ]
    },
    {
      "cell_type": "markdown",
      "source": [
        "#1.1\n",
        "###Import required libraries and read the URL"
      ],
      "metadata": {
        "id": "jAcShb8not1L"
      }
    },
    {
      "cell_type": "code",
      "source": [
        "import requests\n",
        "from bs4 import BeautifulSoup\n",
        "\n"
      ],
      "metadata": {
        "id": "XxTwMnAfpD7r"
      },
      "execution_count": null,
      "outputs": []
    },
    {
      "cell_type": "markdown",
      "source": [
        "#2.1a\n",
        "Add the URL and make requests to it.\n"
      ],
      "metadata": {
        "id": "EnGn3BY4Nuee"
      }
    },
    {
      "cell_type": "code",
      "source": [
        "url = 'https://www.flipkart.com/search?q=mobile+phone+5g'"
      ],
      "metadata": {
        "id": "ivdwHYLi12XG"
      },
      "execution_count": null,
      "outputs": []
    },
    {
      "cell_type": "code",
      "source": [
        "# Make a request to the website\n",
        "response = requests.get(url)\n",
        "\n",
        "# Create a BeautifulSoup object\n",
        "soup = BeautifulSoup(response.text, 'html.parser')\n"
      ],
      "metadata": {
        "id": "yxkeHyOV2PiT"
      },
      "execution_count": null,
      "outputs": []
    },
    {
      "cell_type": "markdown",
      "source": [
        "#2.1b\n",
        "Print all scraped data"
      ],
      "metadata": {
        "id": "vnpetEP1N6zj"
      }
    },
    {
      "cell_type": "code",
      "source": [
        "text = soup.get_text()\n",
        "text"
      ],
      "metadata": {
        "colab": {
          "base_uri": "https://localhost:8080/",
          "height": 191
        },
        "id": "ak1LNiuW3hzQ",
        "outputId": "65606719-eeca-4750-a0fa-61672075668a"
      },
      "execution_count": null,
      "outputs": [
        {
          "output_type": "execute_result",
          "data": {
            "text/plain": [
              "' Mobile Phone 5g- Buy Products Online at Best Price in India - All Categories | Flipkart.com     Explore PlusLoginBecome a Seller More CartFiltersCATEGORIESMobiles & AccessoriesMobilesPrice......Min₹10000₹15000₹20000₹30000to₹10000₹15000₹20000₹30000₹30000+BrandSAMSUNGAPPLErealmePOCOInfinixOPPO141 MORE?Customer Ratings4★ & above3★ & aboveGST Invoice AvailableRAM4 GB3 GB2 GB1GB and Below8 GB and Above6 GBInternal StorageBattery CapacityScreen SizePrimary CameraSecondary CameraProcessor BrandSpecialityResolution TypeOperating SystemNetwork TypeSim TypeOffersBuy More, Save MoreNo Cost EMISpecial PriceFeaturesTypeNumber of CoresAvailabilityDiscount50% or more40% or more30% or more20% or more10% or moreOperating System Version NameClock SpeedNeed help?Help me decideHomeMobiles & AccessoriesMobilesShowing 1 – 24 of 4,818 results for \"mobile phone 5g\"Sort ByRelevancePopularityPrice -- Low to HighPrice -- High to LowNewest FirstAdd to ComparePOCO M4 5G (Cool Blue, 64 GB)4.282,951 Ratings\\xa0&\\xa05,810 Reviews4 GB RAM | 64 GB ROM | Expandable Upto 512 GB16.71 cm (6.58 inch) Full HD+ Display50MP + 2MP | 8MP Front Camera5000 mAh Lithium Ion Polymer BatteryMediatek Dimensity 700 Processor1 Year Warranty for Handset and 6 Months for Accessories₹11,999₹15,99925% offFree delivery by TodayUpto ₹10,800 Off on ExchangeBank OfferAdd to ComparePOCO X5 5G (Wildcat Blue, 128 GB)4.110,459 Ratings\\xa0&\\xa0798 Reviews6 GB RAM | 128 GB ROM | Expandable Upto 1 TB16.94 cm (6.67 inch) Full HD+ Display48MP + 8MP + 2MP | 13MP Front Camera5000 mAh BatteryQualcomm Snapdragon 695 Processor1 Year Manufacturer Warranty for Phone and 6 Months Warranty for In the Box Accessories₹15,999₹20,99923% offFree delivery by TodayUpto ₹14,500 Off on ExchangeNo Cost EMI from ₹2,667/monthAdd to CompareSAMSUNG Galaxy F14 5G (GOAT Green, 128 GB)4.220,191 Ratings\\xa0&\\xa01,583 Reviews6 GB RAM | 128 GB ROM | Expandable Upto 1 TB16.76 cm (6.6 inch) Full HD+ Display50MP + 2MP | 13MP Front Camera6000 mAh BatteryExynos 1330, Octa Core Processor1 Year Manufacturer Warranty for Device and 6 Months Manufacturer Warranty for In-Box Accessories₹14,990₹18,49018% offFree delivery by TodayUpto ₹14,350 Off on ExchangeNo Cost EMI from ₹1,666/monthAdd to CompareInfinix Note 12 Pro 5G (Force Black, 128 GB)4.129,284 Ratings\\xa0&\\xa03,367 Reviews8 GB RAM | 128 GB ROM | Expandable Upto 2 TB17.02 cm (6.7 inch) Full HD+ AMOLED Display108MP + 2MP (Depth) + 2MP (Macro) | 16MP Front Camera5000 mAh Li-ion Polymer BatteryMediatek Dimensity 810 5G Processor1 Year on Handset and 6 Months on Accessories₹15,999₹24,99936% offFree delivery by TodayUpto ₹15,150 Off on ExchangeBank OfferAdd to CompareInfinix Note 12 Pro 5G (Snowfall, 128 GB)4.129,284 Ratings\\xa0&\\xa03,367 Reviews8 GB RAM | 128 GB ROM | Expandable Upto 2 TB17.02 cm (6.7 inch) Full HD+ AMOLED Display108MP + 2MP (Depth) + 2MP (Macro) | 16MP Front Camera5000 mAh Li-ion Polymer BatteryMediatek Dimensity 810 5G Processor1 Year on Handset and 6 Months on Accessories₹15,999₹24,99936% offFree delivery by TodayUpto ₹15,150 Off on ExchangeBank OfferAdd to ComparePOCO X5 Pro 5G (Horizon Blue, 256 GB)4.39,298 Ratings\\xa0&\\xa0955 Reviews8 GB RAM | 256 GB ROM16.94 cm (6.67 inch) Full HD+ Display108MP + 8MP + 2MP | 16MP Front Camera5000 mAh BatteryQualcomm Snapdragon 778G Processor1 Year Manufacturer Warranty for Phone and 6 Months Warranty for in the Box Accessories₹22,999₹28,99920% offFree delivery by TodayUpto ₹21,650 Off on ExchangeNo Cost EMI from ₹3,834/monthAdd to CompareGoogle Pixel 6a (Charcoal, 128 GB)4.350,092 Ratings\\xa0&\\xa05,981 Reviews6 GB RAM | 128 GB ROM15.6 cm (6.14 inch) Full HD+ Display12.2MP + 12MP | 8MP Front Camera4410 mAh BatteryGoogle Tensor Processor1 Year Brand Warranty₹30,999₹43,99929% offFree delivery by TodayUpto ₹28,700 Off on ExchangeNo Cost EMI from ₹5,167/monthAdd to CompareSAMSUNG Galaxy F14 5G (OMG Black, 128 GB)4.220,191 Ratings\\xa0&\\xa01,583 Reviews6 GB RAM | 128 GB ROM | Expandable Upto 1 TB16.76 cm (6.6 inch) Full HD+ Display50MP + 2MP | 13MP Front Camera6000 mAh BatteryExynos 1330, Octa Core Processor1 Year Manufacturer Warranty for Device and 6 Months Manufacturer Warranty for In-Box Accessories₹14,990₹18,49018% offFree delivery by TodayUpto ₹14,350 Off on ExchangeNo Cost EMI from ₹1,666/monthAdd to CompareGoogle Pixel 6a (Chalk, 128 GB)4.350,092 Ratings\\xa0&\\xa05,981 Reviews6 GB RAM | 128 GB ROM15.6 cm (6.14 inch) Full HD+ Display12.2MP + 12MP | 8MP Front Camera4410 mAh BatteryGoogle Tensor Processor1 Year Brand Warranty₹30,999₹43,99929% offFree delivery by TodayUpto ₹28,700 Off on ExchangeNo Cost EMI from ₹5,167/monthAdd to Comparerealme 10 Pro 5G (Nebula Blue, 128 GB)4.322,029 Ratings\\xa0&\\xa01,607 Reviews8 GB RAM | 128 GB ROM | Expandable Upto 1 TB17.07 cm (6.72 inch) Full HD+ Display108MP + 2MP | 16MP Front Camera5000 mAh BatteryQualcomm Snapdragon 695 5G Processor1 Year Manufacturer Warranty for Phone and 6 Months Warranty for In-Box Accessories₹19,999₹22,99913% offFree delivery by TodayDaily SaverUpto ₹19,350 Off on ExchangeAdd to Comparerealme 10 Pro 5G (Nebula Blue, 128 GB)4.329,330 Ratings\\xa0&\\xa02,123 Reviews6 GB RAM | 128 GB ROM | Expandable Upto 1 TB17.07 cm (6.72 inch) Full HD+ Display108MP + 2MP | 16MP Front Camera5000 mAh BatteryQualcomm Snapdragon 695 5G Processor1 Year Manufacturer Warranty for Phone and 6 Months Warranty for In-Box Accessories₹18,999₹20,9999% offFree delivery by TodayUpto ₹18,350 Off on ExchangeBank OfferAdd to Comparerealme 10 Pro 5G (Dark Matter, 128 GB)4.322,029 Ratings\\xa0&\\xa01,607 Reviews8 GB RAM | 128 GB ROM | Expandable Upto 1 TB17.07 cm (6.72 inch) Full HD+ Display108MP + 2MP | 16MP Front Camera5000 mAh BatteryQualcomm Snapdragon 695 5G Processor1 Year Manufacturer Warranty for Phone and 6 Months Warranty for In-Box Accessories₹19,999₹22,99913% offAdd to Comparerealme 10 Pro 5G (Hyperspace, 128 GB)4.322,029 Ratings\\xa0&\\xa01,607 Reviews8 GB RAM | 128 GB ROM | Expandable Upto 1 TB17.07 cm (6.72 inch) Full HD+ Display108MP + 2MP | 16MP Front Camera5000 mAh BatteryQualcomm Snapdragon 695 5G Processor1 Year Manufacturer Warranty for Phone and 6 Months Warranty for In-Box Accessories₹19,999₹22,99913% offFree delivery by TodayDaily SaverUpto ₹19,350 Off on ExchangeAdd to Comparerealme 10 Pro 5G (Hyperspace, 128 GB)4.329,330 Ratings\\xa0&\\xa02,123 Reviews6 GB RAM | 128 GB ROM | Expandable Upto 1 TB17.07 cm (6.72 inch) Full HD+ Display108MP + 2MP | 16MP Front Camera5000 mAh BatteryQualcomm Snapdragon 695 5G Processor1 Year Manufacturer Warranty for Phone and 6 Months Warranty for In-Box Accessories₹18,999₹20,9999% offFree delivery by TodayUpto ₹18,350 Off on ExchangeBank OfferAdd to Comparerealme 10 Pro 5G (Dark Matter, 128 GB)4.329,330 Ratings\\xa0&\\xa02,123 Reviews6 GB RAM | 128 GB ROM | Expandable Upto 1 TB17.07 cm (6.72 inch) Full HD+ Display108MP + 2MP | 16MP Front Camera5000 mAh BatteryQualcomm Snapdragon 695 5G Processor1 Year Manufacturer Warranty for Phone and 6 Months Warranty for In-Box Accessories₹18,999₹20,9999% offFree delivery by TodayUpto ₹18,350 Off on ExchangeBank OfferAdd to Comparevivo T2 5G (Velocity Wave, 128 GB)4.46,031 Ratings\\xa0&\\xa0412 Reviews8 GB RAM | 128 GB ROM16.21 cm (6.38 inch) Full HD+ Display64 MP (OIS) + 2MP | 16MP Front Camera4500 mAh BatterySnapdragon 695 Processor1 Year of Device & 6 Months for Inbox Accessories₹20,999₹25,99919% offFree delivery by TodayUpto ₹19,650 Off on ExchangeNo Cost EMI from ₹7,000/monthAdd to ComparePOCO M4 5G (Yellow, 128 GB)4.243,016 Ratings\\xa0&\\xa03,115 Reviews6 GB RAM | 128 GB ROM | Expandable Upto 512 GB16.71 cm (6.58 inch) Full HD+ Display50MP + 2MP | 8MP Front Camera5000 mAh Lithium Ion Polymer BatteryMediatek Dimensity 700 Processor1 Year Warranty for Handset and 6 Months for Accessories₹13,999₹18,99926% offFree delivery by TodayUpto ₹12,700 Off on ExchangeBank OfferAdd to CompareInfinix HOT 20 5G (Blaster Green, 64 GB)4.212,886 Ratings\\xa0&\\xa0998 Reviews4 GB RAM | 64 GB ROM | Expandable Upto 1 TB16.76 cm (6.6 inch) Full HD+ Display50MP + AI Lens | 8MP Front Camera5000 mAh Li-ion Polymer BatteryDimensity 810 Processor1 Year on Handset and 6 Months on Accessories₹11,499₹17,99936% offFree delivery by TodayUpto ₹10,900 Off on ExchangeBank OfferAdd to ComparePOCO M4 5G (Power Black, 64 GB)4.282,951 Ratings\\xa0&\\xa05,810 Reviews4 GB RAM | 64 GB ROM | Expandable Upto 512 GB16.71 cm (6.58 inch) Full HD+ Display50MP + 2MP | 8MP Front Camera5000 mAh Lithium Ion Polymer BatteryMediatek Dimensity 700 Processor1 Year Warranty for Handset and 6 Months for Accessories₹11,999₹15,99925% offFree delivery by TodayUpto ₹10,800 Off on ExchangeBank OfferAdd to CompareInfinix HOT 20 5G (Space Blue, 64 GB)4.212,886 Ratings\\xa0&\\xa0998 Reviews4 GB RAM | 64 GB ROM | Expandable Upto 1 TB16.76 cm (6.6 inch) Full HD+ Display50MP + AI Lens | 8MP Front Camera5000 mAh Li-ion Polymer BatteryDimensity 810 Processor1 Year on Handset and 6 Months on Accessories₹11,499₹17,99936% offFree delivery by TodayUpto ₹10,900 Off on ExchangeBank OfferAdd to ComparePOCO X5 Pro 5G (Astral Black, 256 GB)4.39,298 Ratings\\xa0&\\xa0955 Reviews8 GB RAM | 256 GB ROM16.94 cm (6.67 inch) Full HD+ Display108MP + 8MP + 2MP | 16MP Front Camera5000 mAh BatteryQualcomm Snapdragon 778G Processor1 Year Manufacturer Warranty for Phone and 6 Months Warranty for in the Box Accessories₹22,999₹28,99920% offFree delivery by TodayUpto ₹21,650 Off on ExchangeNo Cost EMI from ₹3,834/monthAdd to ComparePOCO M4 5G (Yellow, 64 GB)4.282,951 Ratings\\xa0&\\xa05,810 Reviews4 GB RAM | 64 GB ROM | Expandable Upto 512 GB16.71 cm (6.58 inch) Full HD+ Display50MP + 2MP | 8MP Front Camera5000 mAh Lithium Ion Polymer BatteryMediatek Dimensity 700 Processor1 Year Warranty for Handset and 6 Months for Accessories₹11,999₹15,99925% offFree delivery by TodayUpto ₹10,800 Off on ExchangeBank OfferAdd to CompareInfinix Zero 5G 2023 (Submariner Black, 128 GB)4.14,297 Ratings\\xa0&\\xa0460 Reviews8 GB RAM | 128 GB ROM | Expandable Upto 256 GB17.22 cm (6.78 inch) Full HD+ Display50MP + 2MP + 2MP | 16MP Front Camera5000 mAh Lithium-ion Polymer BatteryMediatek Dimensity 920 Processor1 Year on Handset and 6 Months on Accessories₹14,999₹24,99940% offFree delivery by TodayUpto ₹14,350 Off on ExchangeBank OfferAdd to CompareInfinix Zero 5G 2023 (Pearly White, 128 GB)4.14,297 Ratings\\xa0&\\xa0460 Reviews8 GB RAM | 128 GB ROM | Expandable Upto 256 GB17.22 cm (6.78 inch) Full HD+ Display50MP + 2MP + 2MP | 16MP Front Camera5000 mAh Lithium-ion Polymer BatteryMediatek Dimensity 920 Processor1 Year on Handset and 6 Months on Accessories₹14,999₹24,99940% offFree delivery by TodayUpto ₹14,350 Off on ExchangeBank OfferPage 1 of 20112345678910NextDid you find what you were looking for?YesNoReviews for Popular Mobiles1. POCO M4 5G (Yellow, 128 GB)4.243,016 Ratings&3,115 Reviews₹13,99926% off6 GB RAM | 128 GB ROM | Expandable Upto 512 GB16.71 cm (6.58 inch) Full HD+ Display50MP + 2MP | 8MP Front CameraMost Helpful Review5Fabulous!Very Nice Mobile..I\\'m So Happy For Buying This Phone..Picture Quality Is To Good And Sound Quality Is Very Very Good.Read full reviewSamapti Chanda(Bhattacharjee)Certified Buyer9 months agoRecent Review1WorthlessCamera ig God for day light but very bad in night 😭Read full reviewManas  BarikCertified Buyer1 day ago2. SAMSUNG Galaxy F14 5G (OMG ...4.220,191 Ratings&1,583 Reviews₹14,99018% off6 GB RAM | 128 GB ROM | Expandable Upto 1 TB16.76 cm (6.6 inch) Full HD+ Display50MP + 2MP | 13MP Front CameraMost Helpful Review4Pretty goodPhotos are cool 😎 👌 ☺️ ✨️  but charging are slow in processRead full reviewFlipkart CustomerCertified Buyer2 months agoRecent Review4Good quality productGood product for normal use. Night photo is something to work. Sometimes it lags, but reflects fastly. Rest I am  normal phone user.Battery is very good, 5...Read full reviewFlipkart CustomerCertified Buyer1 day ago3. vivo T2 5G (Velocity Wave, ...4.46,031 Ratings&412 Reviews₹20,99919% off8 GB RAM | 128 GB ROM16.21 cm (6.38 inch) Full HD+ Display64 MP (OIS) + 2MP | 16MP Front CameraMost Helpful Review5Simply awesomeNice phone camera is average look wise super at this price range phone is so goodRead full reviewVikas KumarCertified Buyer2 months agoRecent Review4Worth the moneyEverything is good,go for itRead full reviewFlipkart CustomerCertified Buyer7 days ago4. Infinix Note 12 Pro 5G (For...4.129,284 Ratings&3,367 Reviews₹15,99936% off8 GB RAM | 128 GB ROM | Expandable Upto 2 TB17.02 cm (6.7 inch) Full HD+ AMOLED Display108MP + 2MP (Depth) + 2MP (Macro) | 16MP Front CameraMost Helpful Review4WonderfulSuperb camera result and Betry charging very good 30 minit in full charge I happy for this product thanx u so much Flipkart I am filling very good I love Fli...Read full reviewBhaveshBhai  MakwanaCertified Buyer11 months agoRecent Review4Good choiceNice product and good quality.Flipcart service is very wellRead full reviewMANICK RAJCertified Buyer2 days ago5. realme 10 Pro 5G (Hyperspac...4.329,330 Ratings&2,123 Reviews₹18,9999% off6 GB RAM | 128 GB ROM | Expandable Upto 1 TB17.07 cm (6.72 inch) Full HD+ Display108MP + 2MP | 16MP Front CameraMost Helpful Review5Just wow!I am writing this review after using of 25daysThis is a totally awesome device in this price range 😎Read full reviewFlipkart CustomerCertified Buyer5 months agoRecent Review3Decent productHang issue, pre installed apps very uselessRead full reviewDinesh KumarCertified Buyer1 day agoABOUTContact UsAbout UsCareersFlipkart StoriesPressFlipkart WholesaleCorporate InformationHELPPaymentsShippingCancellation & ReturnsFAQReport InfringementCONSUMER POLICYReturn PolicyTerms Of UseSecurityPrivacySitemapGrievance RedressalEPR ComplianceSOCIALFacebookTwitterYouTubeMail Us:Flipkart Internet Private Limited, \\n Buildings Alyssa, Begonia & \\n Clove Embassy Tech Village, \\n Outer Ring Road, Devarabeesanahalli Village, \\n Bengaluru, 560103, \\n Karnataka, India\\nRegistered Office Address:Flipkart Internet Private Limited, \\n Buildings Alyssa, Begonia & \\n Clove Embassy Tech Village, \\n Outer Ring Road, Devarabeesanahalli Village, \\n Bengaluru, 560103, \\n Karnataka, India \\n CIN : U51109KA2012PTC066107 \\n Telephone: 044-45614700\\nBecome a SellerAdvertiseGift CardsHelp Center© 2007-2023 Flipkart.comBack to top   \\n \\n\\n  '"
            ],
            "application/vnd.google.colaboratory.intrinsic+json": {
              "type": "string"
            }
          },
          "metadata": {},
          "execution_count": 16
        }
      ]
    },
    {
      "cell_type": "markdown",
      "source": [
        "#2.1c\n",
        "###Manually search same url in your browser and find a device in the scraped text.\n",
        "\n",
        "Use Command+F (MAC) or Ctrl+F (Windows)\n",
        "\n",
        "And type 1st device name that you find on flipkart url.\n",
        "\n",
        "Search in the above scraped data."
      ],
      "metadata": {
        "id": "Ung469AlOI0g"
      }
    },
    {
      "cell_type": "markdown",
      "source": [
        "#2.2\n",
        "##We will use very basic NLP techniques to filter out useful information from raw data."
      ],
      "metadata": {
        "id": "RhWYDIXOPWz8"
      }
    },
    {
      "cell_type": "markdown",
      "source": [
        "#2.2a - Single Device Name\n",
        "Give a start word and a end word.\n",
        "\n",
        "Find that start and end words in the above text.\n",
        "\n",
        "Filter in data written between start and end words.\n"
      ],
      "metadata": {
        "id": "bmrEDwD5P5dI"
      }
    },
    {
      "cell_type": "code",
      "source": [
        "start_word = \"Add to Compare\"\n",
        "end_word = \"(\"\n",
        "start_index = text.find(start_word)\n",
        "end_index = text.find(end_word, start_index + len(start_word))\n",
        "name = ''\n",
        "if start_index != -1 and end_index != -1:\n",
        "    name = text[start_index + len(start_word):end_index].strip()\n",
        "\n",
        "print(name)\n"
      ],
      "metadata": {
        "colab": {
          "base_uri": "https://localhost:8080/"
        },
        "id": "MvyWgzIs33fw",
        "outputId": "b67ef955-5623-4624-d202-109927ade5ae"
      },
      "execution_count": null,
      "outputs": [
        {
          "output_type": "stream",
          "name": "stdout",
          "text": [
            "POCO M4 5G\n"
          ]
        }
      ]
    },
    {
      "cell_type": "markdown",
      "source": [
        "#2.2b - Single Device RAM and ROM"
      ],
      "metadata": {
        "id": "HYV1yHM6RIoD"
      }
    },
    {
      "cell_type": "code",
      "source": [
        "start_word = \"Reviews\"\n",
        "end_word = \"ROM\"\n",
        "start_index = text.find(start_word)\n",
        "end_index = text.find(end_word, start_index + len(start_word))\n",
        "RAM_ROM = ''\n",
        "if start_index != -1 and end_index != -1:\n",
        "    RAM_ROM = text[start_index + len(start_word):end_index].strip()\n",
        "\n",
        "print(RAM_ROM)\n"
      ],
      "metadata": {
        "colab": {
          "base_uri": "https://localhost:8080/"
        },
        "id": "SaRk7ZQ965QB",
        "outputId": "c9c4d18b-b310-410b-e408-5e2962e9bac2"
      },
      "execution_count": null,
      "outputs": [
        {
          "output_type": "stream",
          "name": "stdout",
          "text": [
            "4 GB RAM | 64 GB\n"
          ]
        }
      ]
    },
    {
      "cell_type": "markdown",
      "source": [
        "#2.2c - Single Device Rating and Sold"
      ],
      "metadata": {
        "id": "BzX6xfsERTzB"
      }
    },
    {
      "cell_type": "code",
      "source": [
        "start_word = \"GB)\"\n",
        "end_word = \"Ratings\"\n",
        "start_index = text.find(start_word)\n",
        "end_index = text.find(end_word, start_index + len(start_word))\n",
        "Rating_Sold = ''\n",
        "if start_index != -1 and end_index != -1:\n",
        "    Rating_Sold = text[start_index + len(start_word):end_index].strip()\n",
        "\n",
        "print(Rating_Sold)\n"
      ],
      "metadata": {
        "colab": {
          "base_uri": "https://localhost:8080/"
        },
        "id": "LgVgY0RO7eHp",
        "outputId": "bd74a9dc-1e98-4560-9f9b-a741bdb83cda"
      },
      "execution_count": null,
      "outputs": [
        {
          "output_type": "stream",
          "name": "stdout",
          "text": [
            "4.282,951\n"
          ]
        }
      ]
    },
    {
      "cell_type": "markdown",
      "source": [
        "#2.3 Mobile Names\n",
        "\n",
        "Add a for loop to filter all mobile names."
      ],
      "metadata": {
        "id": "PcnncjKhRi0k"
      }
    },
    {
      "cell_type": "code",
      "source": [
        "import re\n",
        "\n",
        "start_word = \"Add to Compare\"\n",
        "end_word = \"(\"\n",
        "\n",
        "escaped_start_word = re.escape(start_word)\n",
        "escaped_end_word = re.escape(end_word)\n",
        "\n",
        "pattern = f\"{escaped_start_word}(.*?){escaped_end_word}\"\n",
        "matches = re.finditer(pattern, text)\n",
        "name = []\n",
        "\n",
        "for match in matches:\n",
        "    project = match.group(1).strip()\n",
        "    name.append(project)\n",
        "\n",
        "print(name)\n"
      ],
      "metadata": {
        "colab": {
          "base_uri": "https://localhost:8080/"
        },
        "id": "oDn4jehd5iSz",
        "outputId": "9d3fbddb-2f19-45a1-f876-aa8c058286bc"
      },
      "execution_count": null,
      "outputs": [
        {
          "output_type": "stream",
          "name": "stdout",
          "text": [
            "['POCO M4 5G', 'POCO X5 5G', 'SAMSUNG Galaxy F14 5G', 'Infinix Note 12 Pro 5G', 'Infinix Note 12 Pro 5G', 'POCO X5 Pro 5G', 'Google Pixel 6a', 'SAMSUNG Galaxy F14 5G', 'Google Pixel 6a', 'realme 10 Pro 5G', 'realme 10 Pro 5G', 'realme 10 Pro 5G', 'realme 10 Pro 5G', 'realme 10 Pro 5G', 'realme 10 Pro 5G', 'vivo T2 5G', 'POCO M4 5G', 'Infinix HOT 20 5G', 'POCO M4 5G', 'Infinix HOT 20 5G', 'POCO X5 Pro 5G', 'POCO M4 5G', 'Infinix Zero 5G 2023', 'Infinix Zero 5G 2023']\n"
          ]
        }
      ]
    },
    {
      "cell_type": "code",
      "source": [
        "name"
      ],
      "metadata": {
        "colab": {
          "base_uri": "https://localhost:8080/"
        },
        "id": "wB5EdW4l6cUQ",
        "outputId": "ce4de9e8-ac43-4eba-8979-c5b0515d7794"
      },
      "execution_count": null,
      "outputs": [
        {
          "output_type": "execute_result",
          "data": {
            "text/plain": [
              "['POCO M4 5G',\n",
              " 'POCO X5 5G',\n",
              " 'SAMSUNG Galaxy F14 5G',\n",
              " 'Infinix Note 12 Pro 5G',\n",
              " 'Infinix Note 12 Pro 5G',\n",
              " 'POCO X5 Pro 5G',\n",
              " 'Google Pixel 6a',\n",
              " 'SAMSUNG Galaxy F14 5G',\n",
              " 'Google Pixel 6a',\n",
              " 'realme 10 Pro 5G',\n",
              " 'realme 10 Pro 5G',\n",
              " 'realme 10 Pro 5G',\n",
              " 'realme 10 Pro 5G',\n",
              " 'realme 10 Pro 5G',\n",
              " 'realme 10 Pro 5G',\n",
              " 'vivo T2 5G',\n",
              " 'POCO M4 5G',\n",
              " 'Infinix HOT 20 5G',\n",
              " 'POCO M4 5G',\n",
              " 'Infinix HOT 20 5G',\n",
              " 'POCO X5 Pro 5G',\n",
              " 'POCO M4 5G',\n",
              " 'Infinix Zero 5G 2023',\n",
              " 'Infinix Zero 5G 2023']"
            ]
          },
          "metadata": {},
          "execution_count": 21
        }
      ]
    },
    {
      "cell_type": "markdown",
      "source": [
        "#2.4 RAM and ROM"
      ],
      "metadata": {
        "id": "jjfjzLQER7BW"
      }
    },
    {
      "cell_type": "code",
      "source": [
        "import re\n",
        "\n",
        "start_word = \"Reviews\"\n",
        "end_word = \"ROM\"\n",
        "\n",
        "escaped_start_word = re.escape(start_word)\n",
        "escaped_end_word = re.escape(end_word)\n",
        "\n",
        "pattern = f\"{escaped_start_word}(.*?){escaped_end_word}\"\n",
        "matches = re.finditer(pattern, text)\n",
        "RAM_ROM = []\n",
        "\n",
        "for match in matches:\n",
        "    project = match.group(1).strip()\n",
        "    RAM_ROM.append(project)\n",
        "\n",
        "print(RAM_ROM)\n"
      ],
      "metadata": {
        "colab": {
          "base_uri": "https://localhost:8080/"
        },
        "id": "4zbakvHA8l2b",
        "outputId": "c99d6cb7-b7d2-4f17-d00c-7404ed160137"
      },
      "execution_count": null,
      "outputs": [
        {
          "output_type": "stream",
          "name": "stdout",
          "text": [
            "['4 GB RAM | 64 GB', '6 GB RAM | 128 GB', '6 GB RAM | 128 GB', '8 GB RAM | 128 GB', '8 GB RAM | 128 GB', '8 GB RAM | 256 GB', '6 GB RAM | 128 GB', '6 GB RAM | 128 GB', '6 GB RAM | 128 GB', '8 GB RAM | 128 GB', '6 GB RAM | 128 GB', '8 GB RAM | 128 GB', '8 GB RAM | 128 GB', '6 GB RAM | 128 GB', '6 GB RAM | 128 GB', '8 GB RAM | 128 GB', '6 GB RAM | 128 GB', '4 GB RAM | 64 GB', '4 GB RAM | 64 GB', '4 GB RAM | 64 GB', '8 GB RAM | 256 GB', '4 GB RAM | 64 GB', '8 GB RAM | 128 GB', '8 GB RAM | 128 GB', 'for Popular Mobiles1. POCO M4 5G (Yellow, 128 GB)4.243,016 Ratings&3,115 Reviews₹13,99926% off6 GB RAM | 128 GB', '₹14,99018% off6 GB RAM | 128 GB', '₹20,99919% off8 GB RAM | 128 GB', '₹15,99936% off8 GB RAM | 128 GB', '₹18,9999% off6 GB RAM | 128 GB']\n"
          ]
        }
      ]
    },
    {
      "cell_type": "code",
      "source": [
        "RAM_ROM"
      ],
      "metadata": {
        "colab": {
          "base_uri": "https://localhost:8080/"
        },
        "id": "9DDk3ZEc8rFz",
        "outputId": "992989d7-7904-4992-a493-21da630d7d03"
      },
      "execution_count": null,
      "outputs": [
        {
          "output_type": "execute_result",
          "data": {
            "text/plain": [
              "['4 GB RAM | 64 GB',\n",
              " '6 GB RAM | 128 GB',\n",
              " '6 GB RAM | 128 GB',\n",
              " '8 GB RAM | 128 GB',\n",
              " '8 GB RAM | 128 GB',\n",
              " '8 GB RAM | 256 GB',\n",
              " '6 GB RAM | 128 GB',\n",
              " '6 GB RAM | 128 GB',\n",
              " '6 GB RAM | 128 GB',\n",
              " '8 GB RAM | 128 GB',\n",
              " '6 GB RAM | 128 GB',\n",
              " '8 GB RAM | 128 GB',\n",
              " '8 GB RAM | 128 GB',\n",
              " '6 GB RAM | 128 GB',\n",
              " '6 GB RAM | 128 GB',\n",
              " '8 GB RAM | 128 GB',\n",
              " '6 GB RAM | 128 GB',\n",
              " '4 GB RAM | 64 GB',\n",
              " '4 GB RAM | 64 GB',\n",
              " '4 GB RAM | 64 GB',\n",
              " '8 GB RAM | 256 GB',\n",
              " '4 GB RAM | 64 GB',\n",
              " '8 GB RAM | 128 GB',\n",
              " '8 GB RAM | 128 GB',\n",
              " 'for Popular Mobiles1. POCO M4 5G (Yellow, 128 GB)4.243,016 Ratings&3,115 Reviews₹13,99926% off6 GB RAM | 128 GB',\n",
              " '₹14,99018% off6 GB RAM | 128 GB',\n",
              " '₹20,99919% off8 GB RAM | 128 GB',\n",
              " '₹15,99936% off8 GB RAM | 128 GB',\n",
              " '₹18,9999% off6 GB RAM | 128 GB']"
            ]
          },
          "metadata": {},
          "execution_count": 23
        }
      ]
    },
    {
      "cell_type": "markdown",
      "source": [
        "#2.4a\n",
        "\n",
        "Sorting Data by removing last 5 elements."
      ],
      "metadata": {
        "id": "oOT4zQjfSFGV"
      }
    },
    {
      "cell_type": "code",
      "source": [
        "new_RAM_ROM = RAM_ROM[:-5]  # Remove the last 5 elements\n",
        "\n",
        "print(new_RAM_ROM)"
      ],
      "metadata": {
        "colab": {
          "base_uri": "https://localhost:8080/"
        },
        "id": "MefQ-4Wl-e_M",
        "outputId": "9815c49a-03a2-4cab-9996-6e85931cdc38"
      },
      "execution_count": null,
      "outputs": [
        {
          "output_type": "stream",
          "name": "stdout",
          "text": [
            "['4 GB RAM | 64 GB', '6 GB RAM | 128 GB', '6 GB RAM | 128 GB', '8 GB RAM | 128 GB', '8 GB RAM | 128 GB', '8 GB RAM | 256 GB', '6 GB RAM | 128 GB', '6 GB RAM | 128 GB', '6 GB RAM | 128 GB', '8 GB RAM | 128 GB', '6 GB RAM | 128 GB', '8 GB RAM | 128 GB', '8 GB RAM | 128 GB', '6 GB RAM | 128 GB', '6 GB RAM | 128 GB', '8 GB RAM | 128 GB', '6 GB RAM | 128 GB', '4 GB RAM | 64 GB', '4 GB RAM | 64 GB', '4 GB RAM | 64 GB', '8 GB RAM | 256 GB', '4 GB RAM | 64 GB', '8 GB RAM | 128 GB', '8 GB RAM | 128 GB']\n"
          ]
        }
      ]
    },
    {
      "cell_type": "code",
      "source": [
        "new_RAM_ROM"
      ],
      "metadata": {
        "colab": {
          "base_uri": "https://localhost:8080/"
        },
        "id": "6Ax3ONFI-jhG",
        "outputId": "50cd5c97-94ea-49b3-8608-ef3c8f9afe7d"
      },
      "execution_count": null,
      "outputs": [
        {
          "output_type": "execute_result",
          "data": {
            "text/plain": [
              "['4 GB RAM | 64 GB',\n",
              " '6 GB RAM | 128 GB',\n",
              " '6 GB RAM | 128 GB',\n",
              " '8 GB RAM | 128 GB',\n",
              " '8 GB RAM | 128 GB',\n",
              " '8 GB RAM | 256 GB',\n",
              " '6 GB RAM | 128 GB',\n",
              " '6 GB RAM | 128 GB',\n",
              " '6 GB RAM | 128 GB',\n",
              " '8 GB RAM | 128 GB',\n",
              " '6 GB RAM | 128 GB',\n",
              " '8 GB RAM | 128 GB',\n",
              " '8 GB RAM | 128 GB',\n",
              " '6 GB RAM | 128 GB',\n",
              " '6 GB RAM | 128 GB',\n",
              " '8 GB RAM | 128 GB',\n",
              " '6 GB RAM | 128 GB',\n",
              " '4 GB RAM | 64 GB',\n",
              " '4 GB RAM | 64 GB',\n",
              " '4 GB RAM | 64 GB',\n",
              " '8 GB RAM | 256 GB',\n",
              " '4 GB RAM | 64 GB',\n",
              " '8 GB RAM | 128 GB',\n",
              " '8 GB RAM | 128 GB']"
            ]
          },
          "metadata": {},
          "execution_count": 25
        }
      ]
    },
    {
      "cell_type": "markdown",
      "source": [
        "#2.4b\n",
        "Add **\"0 GB RAM | \"** in which RAM is not given."
      ],
      "metadata": {
        "id": "mtxYGhEPSQ0S"
      }
    },
    {
      "cell_type": "code",
      "source": [
        "modified_RAM_ROM = [element if '|' in element else '0 GB RAM | ' + element for element in new_RAM_ROM]\n",
        "\n",
        "print(modified_RAM_ROM)"
      ],
      "metadata": {
        "colab": {
          "base_uri": "https://localhost:8080/"
        },
        "id": "w1UzOzCHMEmW",
        "outputId": "cccb3018-7589-492e-b6b8-261c5712de02"
      },
      "execution_count": null,
      "outputs": [
        {
          "output_type": "stream",
          "name": "stdout",
          "text": [
            "['4 GB RAM | 64 GB', '6 GB RAM | 128 GB', '6 GB RAM | 128 GB', '8 GB RAM | 128 GB', '8 GB RAM | 128 GB', '8 GB RAM | 256 GB', '6 GB RAM | 128 GB', '6 GB RAM | 128 GB', '6 GB RAM | 128 GB', '8 GB RAM | 128 GB', '6 GB RAM | 128 GB', '8 GB RAM | 128 GB', '8 GB RAM | 128 GB', '6 GB RAM | 128 GB', '6 GB RAM | 128 GB', '8 GB RAM | 128 GB', '6 GB RAM | 128 GB', '4 GB RAM | 64 GB', '4 GB RAM | 64 GB', '4 GB RAM | 64 GB', '8 GB RAM | 256 GB', '4 GB RAM | 64 GB', '8 GB RAM | 128 GB', '8 GB RAM | 128 GB']\n"
          ]
        }
      ]
    },
    {
      "cell_type": "code",
      "source": [
        "modified_RAM_ROM"
      ],
      "metadata": {
        "colab": {
          "base_uri": "https://localhost:8080/"
        },
        "id": "rJ8pdydRMOqf",
        "outputId": "007a828a-adcf-436b-9509-374be347e0dc"
      },
      "execution_count": null,
      "outputs": [
        {
          "output_type": "execute_result",
          "data": {
            "text/plain": [
              "['4 GB RAM | 64 GB',\n",
              " '6 GB RAM | 128 GB',\n",
              " '6 GB RAM | 128 GB',\n",
              " '8 GB RAM | 128 GB',\n",
              " '8 GB RAM | 128 GB',\n",
              " '8 GB RAM | 256 GB',\n",
              " '6 GB RAM | 128 GB',\n",
              " '6 GB RAM | 128 GB',\n",
              " '6 GB RAM | 128 GB',\n",
              " '8 GB RAM | 128 GB',\n",
              " '6 GB RAM | 128 GB',\n",
              " '8 GB RAM | 128 GB',\n",
              " '8 GB RAM | 128 GB',\n",
              " '6 GB RAM | 128 GB',\n",
              " '6 GB RAM | 128 GB',\n",
              " '8 GB RAM | 128 GB',\n",
              " '6 GB RAM | 128 GB',\n",
              " '4 GB RAM | 64 GB',\n",
              " '4 GB RAM | 64 GB',\n",
              " '4 GB RAM | 64 GB',\n",
              " '8 GB RAM | 256 GB',\n",
              " '4 GB RAM | 64 GB',\n",
              " '8 GB RAM | 128 GB',\n",
              " '8 GB RAM | 128 GB']"
            ]
          },
          "metadata": {},
          "execution_count": 27
        }
      ]
    },
    {
      "cell_type": "markdown",
      "source": [
        "#2.4c\n",
        "Split RAM and ROM in 2 differnt sets."
      ],
      "metadata": {
        "id": "fSyrC_9SS_qS"
      }
    },
    {
      "cell_type": "code",
      "source": [
        "\n",
        "RAM = [element.split(\" | \")[0] for element in modified_RAM_ROM]\n",
        "ROM = [element.split(\" | \")[1] for element in modified_RAM_ROM]\n",
        "\n",
        "print(RAM)\n",
        "print(ROM)"
      ],
      "metadata": {
        "colab": {
          "base_uri": "https://localhost:8080/"
        },
        "id": "CHk-hbPYMqtu",
        "outputId": "57bdbb5a-d631-4b5d-a84e-2196fcb7f701"
      },
      "execution_count": null,
      "outputs": [
        {
          "output_type": "stream",
          "name": "stdout",
          "text": [
            "['4 GB RAM', '6 GB RAM', '6 GB RAM', '8 GB RAM', '8 GB RAM', '8 GB RAM', '6 GB RAM', '6 GB RAM', '6 GB RAM', '8 GB RAM', '6 GB RAM', '8 GB RAM', '8 GB RAM', '6 GB RAM', '6 GB RAM', '8 GB RAM', '6 GB RAM', '4 GB RAM', '4 GB RAM', '4 GB RAM', '8 GB RAM', '4 GB RAM', '8 GB RAM', '8 GB RAM']\n",
            "['64 GB', '128 GB', '128 GB', '128 GB', '128 GB', '256 GB', '128 GB', '128 GB', '128 GB', '128 GB', '128 GB', '128 GB', '128 GB', '128 GB', '128 GB', '128 GB', '128 GB', '64 GB', '64 GB', '64 GB', '256 GB', '64 GB', '128 GB', '128 GB']\n"
          ]
        }
      ]
    },
    {
      "cell_type": "markdown",
      "source": [
        "#2.4d\n",
        "Keep only numerics in the set."
      ],
      "metadata": {
        "id": "x2zVzW8vTOLF"
      }
    },
    {
      "cell_type": "code",
      "source": [
        "RAM_digit = [re.sub(r'\\D', '', element) for element in RAM]\n",
        "\n",
        "print(RAM_digit)"
      ],
      "metadata": {
        "colab": {
          "base_uri": "https://localhost:8080/"
        },
        "id": "Q1nknykENIiK",
        "outputId": "e6baf08e-3399-44de-e2b5-a6a95371f659"
      },
      "execution_count": null,
      "outputs": [
        {
          "output_type": "stream",
          "name": "stdout",
          "text": [
            "['4', '6', '6', '8', '8', '8', '6', '6', '6', '8', '6', '8', '8', '6', '6', '8', '6', '4', '4', '4', '8', '4', '8', '8']\n"
          ]
        }
      ]
    },
    {
      "cell_type": "code",
      "source": [
        "ROM_digit = [re.sub(r'\\D', '', element) for element in ROM]\n",
        "\n",
        "print(ROM_digit)"
      ],
      "metadata": {
        "colab": {
          "base_uri": "https://localhost:8080/"
        },
        "id": "VYegduq1NO8_",
        "outputId": "98937f3e-b839-4d4a-f325-e8877db1e9b0"
      },
      "execution_count": null,
      "outputs": [
        {
          "output_type": "stream",
          "name": "stdout",
          "text": [
            "['64', '128', '128', '128', '128', '256', '128', '128', '128', '128', '128', '128', '128', '128', '128', '128', '128', '64', '64', '64', '256', '64', '128', '128']\n"
          ]
        }
      ]
    },
    {
      "cell_type": "markdown",
      "source": [
        "#2.5 Rating and Sold Quantity"
      ],
      "metadata": {
        "id": "_6LD2621Tn2p"
      }
    },
    {
      "cell_type": "code",
      "source": [
        "import re\n",
        "\n",
        "start_word = \"GB)\"\n",
        "end_word = \"Rating\"\n",
        "\n",
        "escaped_start_word = re.escape(start_word)\n",
        "escaped_end_word = re.escape(end_word)\n",
        "\n",
        "pattern = f\"{escaped_start_word}(.*?){escaped_end_word}\"\n",
        "matches = re.finditer(pattern, text)\n",
        "Rating_and_Sold = []\n",
        "\n",
        "for match in matches:\n",
        "    project = match.group(1).strip()\n",
        "    Rating_and_Sold.append(project)\n",
        "\n",
        "print(Rating_and_Sold)\n"
      ],
      "metadata": {
        "colab": {
          "base_uri": "https://localhost:8080/"
        },
        "id": "XBeBjfvG6wmY",
        "outputId": "962a2a4f-b330-42ae-d9df-09a5d56f722d"
      },
      "execution_count": null,
      "outputs": [
        {
          "output_type": "stream",
          "name": "stdout",
          "text": [
            "['4.282,951', '4.110,459', '4.220,191', '4.129,284', '4.129,284', '4.39,298', '4.350,092', '4.220,191', '4.350,092', '4.322,029', '4.329,330', '4.322,029', '4.322,029', '4.329,330', '4.329,330', '4.46,031', '4.243,016', '4.212,886', '4.282,951', '4.212,886', '4.39,298', '4.282,951', '4.14,297', '4.14,297', '4.243,016']\n"
          ]
        }
      ]
    },
    {
      "cell_type": "code",
      "source": [
        "Rating_and_Sold"
      ],
      "metadata": {
        "colab": {
          "base_uri": "https://localhost:8080/"
        },
        "id": "7hWs8Saf8MBX",
        "outputId": "76d1f7e3-0bfc-4711-ce98-0aa6c949e9a0"
      },
      "execution_count": null,
      "outputs": [
        {
          "output_type": "execute_result",
          "data": {
            "text/plain": [
              "['4.282,951',\n",
              " '4.110,459',\n",
              " '4.220,191',\n",
              " '4.129,284',\n",
              " '4.129,284',\n",
              " '4.39,298',\n",
              " '4.350,092',\n",
              " '4.220,191',\n",
              " '4.350,092',\n",
              " '4.322,029',\n",
              " '4.329,330',\n",
              " '4.322,029',\n",
              " '4.322,029',\n",
              " '4.329,330',\n",
              " '4.329,330',\n",
              " '4.46,031',\n",
              " '4.243,016',\n",
              " '4.212,886',\n",
              " '4.282,951',\n",
              " '4.212,886',\n",
              " '4.39,298',\n",
              " '4.282,951',\n",
              " '4.14,297',\n",
              " '4.14,297',\n",
              " '4.243,016']"
            ]
          },
          "metadata": {},
          "execution_count": 32
        }
      ]
    },
    {
      "cell_type": "markdown",
      "source": [
        "#2.5a\n",
        "\n",
        "Spliting into 2 sets based on selecting first 3 elements."
      ],
      "metadata": {
        "id": "2-Ub_b01Tyho"
      }
    },
    {
      "cell_type": "code",
      "source": [
        "# Splitting into two sets\n",
        "Rating = [element[:3] for element in Rating_and_Sold]\n",
        "Sold = [element[3:] for element in Rating_and_Sold]\n",
        "\n",
        "print(Rating)\n",
        "print(Sold)"
      ],
      "metadata": {
        "colab": {
          "base_uri": "https://localhost:8080/"
        },
        "id": "2Mo60uT58N_w",
        "outputId": "96abbd31-54f1-4fef-e45c-c5861e7302f0"
      },
      "execution_count": null,
      "outputs": [
        {
          "output_type": "stream",
          "name": "stdout",
          "text": [
            "['4.2', '4.1', '4.2', '4.1', '4.1', '4.3', '4.3', '4.2', '4.3', '4.3', '4.3', '4.3', '4.3', '4.3', '4.3', '4.4', '4.2', '4.2', '4.2', '4.2', '4.3', '4.2', '4.1', '4.1', '4.2']\n",
            "['82,951', '10,459', '20,191', '29,284', '29,284', '9,298', '50,092', '20,191', '50,092', '22,029', '29,330', '22,029', '22,029', '29,330', '29,330', '6,031', '43,016', '12,886', '82,951', '12,886', '9,298', '82,951', '4,297', '4,297', '43,016']\n"
          ]
        }
      ]
    },
    {
      "cell_type": "code",
      "source": [
        "Rating"
      ],
      "metadata": {
        "colab": {
          "base_uri": "https://localhost:8080/"
        },
        "id": "6ATOWnOc_ZuT",
        "outputId": "8fd41f93-2dcf-4ced-9a04-d66191282062"
      },
      "execution_count": null,
      "outputs": [
        {
          "output_type": "execute_result",
          "data": {
            "text/plain": [
              "['4.2',\n",
              " '4.1',\n",
              " '4.2',\n",
              " '4.1',\n",
              " '4.1',\n",
              " '4.3',\n",
              " '4.3',\n",
              " '4.2',\n",
              " '4.3',\n",
              " '4.3',\n",
              " '4.3',\n",
              " '4.3',\n",
              " '4.3',\n",
              " '4.3',\n",
              " '4.3',\n",
              " '4.4',\n",
              " '4.2',\n",
              " '4.2',\n",
              " '4.2',\n",
              " '4.2',\n",
              " '4.3',\n",
              " '4.2',\n",
              " '4.1',\n",
              " '4.1',\n",
              " '4.2']"
            ]
          },
          "metadata": {},
          "execution_count": 34
        }
      ]
    },
    {
      "cell_type": "code",
      "source": [
        "Sold"
      ],
      "metadata": {
        "colab": {
          "base_uri": "https://localhost:8080/"
        },
        "id": "eYAaatii_18a",
        "outputId": "198b704c-e797-4115-e402-5ec6281e1695"
      },
      "execution_count": null,
      "outputs": [
        {
          "output_type": "execute_result",
          "data": {
            "text/plain": [
              "['82,951',\n",
              " '10,459',\n",
              " '20,191',\n",
              " '29,284',\n",
              " '29,284',\n",
              " '9,298',\n",
              " '50,092',\n",
              " '20,191',\n",
              " '50,092',\n",
              " '22,029',\n",
              " '29,330',\n",
              " '22,029',\n",
              " '22,029',\n",
              " '29,330',\n",
              " '29,330',\n",
              " '6,031',\n",
              " '43,016',\n",
              " '12,886',\n",
              " '82,951',\n",
              " '12,886',\n",
              " '9,298',\n",
              " '82,951',\n",
              " '4,297',\n",
              " '4,297',\n",
              " '43,016']"
            ]
          },
          "metadata": {},
          "execution_count": 35
        }
      ]
    },
    {
      "cell_type": "markdown",
      "source": [
        "#2.5b\n",
        "Removing all commas"
      ],
      "metadata": {
        "id": "AI08CiCMUCBe"
      }
    },
    {
      "cell_type": "code",
      "source": [
        "# Remove commas from the elements\n",
        "Sold_Data = [element.replace(',', '') for element in Sold]\n",
        "\n",
        "print(Sold_Data)"
      ],
      "metadata": {
        "colab": {
          "base_uri": "https://localhost:8080/"
        },
        "id": "jZx4cNTNGxBV",
        "outputId": "566bacba-ec13-4ab3-9634-3ac22cb5773a"
      },
      "execution_count": null,
      "outputs": [
        {
          "output_type": "stream",
          "name": "stdout",
          "text": [
            "['82951', '10459', '20191', '29284', '29284', '9298', '50092', '20191', '50092', '22029', '29330', '22029', '22029', '29330', '29330', '6031', '43016', '12886', '82951', '12886', '9298', '82951', '4297', '4297', '43016']\n"
          ]
        }
      ]
    },
    {
      "cell_type": "code",
      "source": [
        "Sold_Data"
      ],
      "metadata": {
        "colab": {
          "base_uri": "https://localhost:8080/"
        },
        "id": "GYxpF7ChLMfj",
        "outputId": "af0907d6-08ec-4372-bf48-9bc5438d5ac0"
      },
      "execution_count": null,
      "outputs": [
        {
          "output_type": "execute_result",
          "data": {
            "text/plain": [
              "['82951',\n",
              " '10459',\n",
              " '20191',\n",
              " '29284',\n",
              " '29284',\n",
              " '9298',\n",
              " '50092',\n",
              " '20191',\n",
              " '50092',\n",
              " '22029',\n",
              " '29330',\n",
              " '22029',\n",
              " '22029',\n",
              " '29330',\n",
              " '29330',\n",
              " '6031',\n",
              " '43016',\n",
              " '12886',\n",
              " '82951',\n",
              " '12886',\n",
              " '9298',\n",
              " '82951',\n",
              " '4297',\n",
              " '4297',\n",
              " '43016']"
            ]
          },
          "metadata": {},
          "execution_count": 37
        }
      ]
    },
    {
      "cell_type": "markdown",
      "source": [
        "#2.6 Exporting the final CSV"
      ],
      "metadata": {
        "id": "amuEtd-YUWl4"
      }
    },
    {
      "cell_type": "code",
      "source": [
        "import csv"
      ],
      "metadata": {
        "id": "wPSS47dzW2Rk"
      },
      "execution_count": null,
      "outputs": []
    },
    {
      "cell_type": "code",
      "source": [
        "data = zip(name ,RAM_digit, ROM_digit, Sold_Data, Rating)\n",
        "\n",
        "filename = 'merged_data.csv'\n",
        "\n",
        "with open(filename, 'w', newline='') as csvfile:\n",
        "    writer = csv.writer(csvfile)\n",
        "    writer.writerow(['Name', 'RAM', 'ROM', 'Sold Quantity', 'Rating'])  # Write header row\n",
        "    writer.writerows(data)\n",
        "\n",
        "print(f\"Data has been written to {filename}.\")"
      ],
      "metadata": {
        "colab": {
          "base_uri": "https://localhost:8080/"
        },
        "id": "McCCrC3qLOHD",
        "outputId": "c583d4bd-fd75-4e32-a643-a717e57c1fdd"
      },
      "execution_count": null,
      "outputs": [
        {
          "output_type": "stream",
          "name": "stdout",
          "text": [
            "Data has been written to merged_data.csv.\n"
          ]
        }
      ]
    },
    {
      "cell_type": "code",
      "source": [
        "# Find all the links on the page\n",
        "links = [(a['href'], a.get_text()) for a in soup.find_all('a')]"
      ],
      "metadata": {
        "id": "xEcZZIu1WwgR"
      },
      "execution_count": null,
      "outputs": []
    },
    {
      "cell_type": "code",
      "source": [
        "#links.sort()\n",
        "links.sort(key=lambda x: x[1])"
      ],
      "metadata": {
        "id": "_iJwRDll2MX4"
      },
      "execution_count": null,
      "outputs": []
    },
    {
      "cell_type": "code",
      "source": [
        "sorted_links = [link[0] for link in links]\n",
        "print(sorted_links)"
      ],
      "metadata": {
        "colab": {
          "base_uri": "https://localhost:8080/"
        },
        "id": "U2OK2gfJuMh4",
        "outputId": "6803b4bf-3004-402a-af61-c110125d3a2a"
      },
      "execution_count": null,
      "outputs": [
        {
          "output_type": "stream",
          "name": "stdout",
          "text": [
            "['/', 'tel:044-45614700', '/search?q=mobile+phone+5g&page=1', '/poco-m4-5g-yellow-128-gb/p/itm391fa74136549?pid=MOBGDRGPKQYB4RNZ&marketplace=FLIPKART', '/search?q=mobile+phone+5g&page=10', '/search?q=mobile+phone+5g&page=2', '/samsung-galaxy-f14-5g-omg-black-128-gb/p/itmae94033406fb2?pid=MOBGNBFNE6KGXCCR&marketplace=FLIPKART', '/search?q=mobile+phone+5g&page=3', '/vivo-t2-5g-velocity-wave-128-gb/p/itma79eb573156a4?pid=MOBGZBFU2GHZTMGN&marketplace=FLIPKART', '/search?q=mobile+phone+5g&page=4', '/infinix-note-12-pro-5g-force-black-128-gb/p/itm0812c7355f48a?pid=MOBGFGVXVMTFJGTD&marketplace=FLIPKART', '/search?q=mobile+phone+5g&page=5', '/realme-10-pro-5g-hyperspace-128-gb/p/itm1e672d12a252e?pid=MOBGK8VHECUBAZFA&marketplace=FLIPKART', '/search?q=mobile+phone+5g&page=6', '/search?q=mobile+phone+5g&page=7', '/search?q=mobile+phone+5g&page=8', '/search?q=mobile+phone+5g&page=9', 'https://corporate.flipkart.net/corporate-home', '/google-pixel-6a-chalk-128-gb/p/itme5ae89135d44e?pid=MOBGFWEZ5SKU84Z8&lid=LSTMOBGFWEZ5SKU84Z8FXPB45&marketplace=FLIPKART&q=mobile+phone+5g&store=tyy%2F4io&srno=s_1_9&otracker=search&fm=organic&iid=1ff2c5c6-c70d-4138-84b7-6abdcb463765.MOBGFWEZ5SKU84Z8.SEARCH&ppt=None&ppn=None&ssid=0rjxlilbm80000001688976069584&qH=fa331f09cdd30848', '/google-pixel-6a-charcoal-128-gb/p/itme5ae89135d44e?pid=MOBGFKX5YUXD74Z3&lid=LSTMOBGFKX5YUXD74Z3MXA2OB&marketplace=FLIPKART&q=mobile+phone+5g&store=tyy%2F4io&srno=s_1_7&otracker=search&fm=organic&iid=1ff2c5c6-c70d-4138-84b7-6abdcb463765.MOBGFKX5YUXD74Z3.SEARCH&ppt=None&ppn=None&ssid=0rjxlilbm80000001688976069584&qH=fa331f09cdd30848', '/infinix-hot-20-5g-blaster-green-64-gb/p/itm6646cdd2ff265?pid=MOBGK23WNCHUNEYW&lid=LSTMOBGK23WNCHUNEYWX77ZO2&marketplace=FLIPKART&q=mobile+phone+5g&store=tyy%2F4io&srno=s_1_18&otracker=search&fm=organic&iid=1ff2c5c6-c70d-4138-84b7-6abdcb463765.MOBGK23WNCHUNEYW.SEARCH&ppt=None&ppn=None&ssid=0rjxlilbm80000001688976069584&qH=fa331f09cdd30848', '/infinix-hot-20-5g-space-blue-64-gb/p/itm6646cdd2ff265?pid=MOBGK23W5QZQGSZW&lid=LSTMOBGK23W5QZQGSZWAQX3AN&marketplace=FLIPKART&q=mobile+phone+5g&store=tyy%2F4io&srno=s_1_20&otracker=search&fm=organic&iid=1ff2c5c6-c70d-4138-84b7-6abdcb463765.MOBGK23W5QZQGSZW.SEARCH&ppt=None&ppn=None&ssid=0rjxlilbm80000001688976069584&qH=fa331f09cdd30848', '/infinix-note-12-pro-5g-force-black-128-gb/p/itm0812c7355f48a?pid=MOBGFGVXVMTFJGTD&lid=LSTMOBGFGVXVMTFJGTDOEQVVB&marketplace=FLIPKART&q=mobile+phone+5g&store=tyy%2F4io&srno=s_1_4&otracker=search&fm=organic&iid=1ff2c5c6-c70d-4138-84b7-6abdcb463765.MOBGFGVXVMTFJGTD.SEARCH&ppt=None&ppn=None&ssid=0rjxlilbm80000001688976069584&qH=fa331f09cdd30848', '/infinix-note-12-pro-5g-snowfall-128-gb/p/itm0812c7355f48a?pid=MOBGFGVXPBSV9FG6&lid=LSTMOBGFGVXPBSV9FG6OBADHP&marketplace=FLIPKART&q=mobile+phone+5g&store=tyy%2F4io&srno=s_1_5&otracker=search&fm=organic&iid=1ff2c5c6-c70d-4138-84b7-6abdcb463765.MOBGFGVXPBSV9FG6.SEARCH&ppt=None&ppn=None&ssid=0rjxlilbm80000001688976069584&qH=fa331f09cdd30848', '/infinix-zero-5g-2023-pearly-white-128-gb/p/itmc9f9487659de0?pid=MOBGM5WM2HCAUDEB&lid=LSTMOBGM5WM2HCAUDEB2PTQIC&marketplace=FLIPKART&q=mobile+phone+5g&store=tyy%2F4io&srno=s_1_24&otracker=search&fm=organic&iid=1ff2c5c6-c70d-4138-84b7-6abdcb463765.MOBGM5WM2HCAUDEB.SEARCH&ppt=None&ppn=None&ssid=0rjxlilbm80000001688976069584&qH=fa331f09cdd30848', '/infinix-zero-5g-2023-submariner-black-128-gb/p/itmc9f9487659de0?pid=MOBGM5WMZHEMZGDF&lid=LSTMOBGM5WMZHEMZGDFS7O8UW&marketplace=FLIPKART&q=mobile+phone+5g&store=tyy%2F4io&srno=s_1_23&otracker=search&fm=organic&iid=1ff2c5c6-c70d-4138-84b7-6abdcb463765.MOBGM5WMZHEMZGDF.SEARCH&ppt=None&ppn=None&ssid=0rjxlilbm80000001688976069584&qH=fa331f09cdd30848', '/poco-m4-5g-cool-blue-64-gb/p/itm7b27dd2f5da7e?pid=MOBGDRGPD6YGVHXZ&lid=LSTMOBGDRGPD6YGVHXZBYCJDP&marketplace=FLIPKART&q=mobile+phone+5g&store=tyy%2F4io&spotlightTagId=FkPickId_tyy%2F4io&srno=s_1_1&otracker=search&fm=organic&iid=1ff2c5c6-c70d-4138-84b7-6abdcb463765.MOBGDRGPD6YGVHXZ.SEARCH&ppt=None&ppn=None&ssid=0rjxlilbm80000001688976069584&qH=fa331f09cdd30848', '/poco-m4-5g-power-black-64-gb/p/itmdca739218a8a0?pid=MOBGDRGPZTSHNQ5H&lid=LSTMOBGDRGPZTSHNQ5HK2U5VI&marketplace=FLIPKART&q=mobile+phone+5g&store=tyy%2F4io&srno=s_1_19&otracker=search&fm=organic&iid=1ff2c5c6-c70d-4138-84b7-6abdcb463765.MOBGDRGPZTSHNQ5H.SEARCH&ppt=None&ppn=None&ssid=0rjxlilbm80000001688976069584&qH=fa331f09cdd30848', '/poco-m4-5g-yellow-128-gb/p/itm391fa74136549?pid=MOBGDRGPKQYB4RNZ&lid=LSTMOBGDRGPKQYB4RNZWXTHJ5&marketplace=FLIPKART&q=mobile+phone+5g&store=tyy%2F4io&srno=s_1_17&otracker=search&fm=organic&iid=1ff2c5c6-c70d-4138-84b7-6abdcb463765.MOBGDRGPKQYB4RNZ.SEARCH&ppt=None&ppn=None&ssid=0rjxlilbm80000001688976069584&qH=fa331f09cdd30848', '/poco-m4-5g-yellow-64-gb/p/itm5bd9222dd1355?pid=MOBGDRGPBZHUC3VZ&lid=LSTMOBGDRGPBZHUC3VZKR84R7&marketplace=FLIPKART&q=mobile+phone+5g&store=tyy%2F4io&srno=s_1_22&otracker=search&fm=organic&iid=1ff2c5c6-c70d-4138-84b7-6abdcb463765.MOBGDRGPBZHUC3VZ.SEARCH&ppt=None&ppn=None&ssid=0rjxlilbm80000001688976069584&qH=fa331f09cdd30848', '/poco-x5-5g-wildcat-blue-128-gb/p/itm6a8049291a98f?pid=MOBGNBFBPH6Q5ZN4&lid=LSTMOBGNBFBPH6Q5ZN4WSEDVR&marketplace=FLIPKART&q=mobile+phone+5g&store=tyy%2F4io&srno=s_1_2&otracker=search&fm=organic&iid=1ff2c5c6-c70d-4138-84b7-6abdcb463765.MOBGNBFBPH6Q5ZN4.SEARCH&ppt=None&ppn=None&ssid=0rjxlilbm80000001688976069584&qH=fa331f09cdd30848', '/poco-x5-pro-5g-astral-black-256-gb/p/itm6bf766212d183?pid=MOBGMDKQJ9WVEFYK&lid=LSTMOBGMDKQJ9WVEFYKZEUY55&marketplace=FLIPKART&q=mobile+phone+5g&store=tyy%2F4io&srno=s_1_21&otracker=search&fm=organic&iid=1ff2c5c6-c70d-4138-84b7-6abdcb463765.MOBGMDKQJ9WVEFYK.SEARCH&ppt=None&ppn=None&ssid=0rjxlilbm80000001688976069584&qH=fa331f09cdd30848', '/poco-x5-pro-5g-horizon-blue-256-gb/p/itm7d7b6b78895bc?pid=MOBGMDKQ2NHTBHJM&lid=LSTMOBGMDKQ2NHTBHJMQ7AMXN&marketplace=FLIPKART&q=mobile+phone+5g&store=tyy%2F4io&srno=s_1_6&otracker=search&fm=organic&iid=1ff2c5c6-c70d-4138-84b7-6abdcb463765.MOBGMDKQ2NHTBHJM.SEARCH&ppt=None&ppn=None&ssid=0rjxlilbm80000001688976069584&qH=fa331f09cdd30848', '/samsung-galaxy-f14-5g-goat-green-128-gb/p/itm032d1a69999cc?pid=MOBGNBFNDPGNJ7HY&lid=LSTMOBGNBFNDPGNJ7HYRCCFUH&marketplace=FLIPKART&q=mobile+phone+5g&store=tyy%2F4io&srno=s_1_3&otracker=search&fm=organic&iid=1ff2c5c6-c70d-4138-84b7-6abdcb463765.MOBGNBFNDPGNJ7HY.SEARCH&ppt=None&ppn=None&ssid=0rjxlilbm80000001688976069584&qH=fa331f09cdd30848', '/samsung-galaxy-f14-5g-omg-black-128-gb/p/itmae94033406fb2?pid=MOBGNBFNE6KGXCCR&lid=LSTMOBGNBFNE6KGXCCRXLTXS7&marketplace=FLIPKART&q=mobile+phone+5g&store=tyy%2F4io&srno=s_1_8&otracker=search&fm=organic&iid=1ff2c5c6-c70d-4138-84b7-6abdcb463765.MOBGNBFNE6KGXCCR.SEARCH&ppt=None&ppn=None&ssid=0rjxlilbm80000001688976069584&qH=fa331f09cdd30848', '/realme-10-pro-5g-dark-matter-128-gb/p/itm1e672d12a252e?pid=MOBGK8VHZGEEGXFR&lid=LSTMOBGK8VHZGEEGXFRIWIE6H&marketplace=FLIPKART&q=mobile+phone+5g&store=tyy%2F4io&srno=s_1_12&otracker=search&fm=organic&iid=1ff2c5c6-c70d-4138-84b7-6abdcb463765.MOBGK8VHZGEEGXFR.SEARCH&ppt=None&ppn=None&ssid=0rjxlilbm80000001688976069584&qH=fa331f09cdd30848', '/realme-10-pro-5g-dark-matter-128-gb/p/itm1e672d12a252e?pid=MOBGK8VHWBRKYFJD&lid=LSTMOBGK8VHWBRKYFJDTEBOFU&marketplace=FLIPKART&q=mobile+phone+5g&store=tyy%2F4io&srno=s_1_15&otracker=search&fm=organic&iid=1ff2c5c6-c70d-4138-84b7-6abdcb463765.MOBGK8VHWBRKYFJD.SEARCH&ppt=None&ppn=None&ssid=0rjxlilbm80000001688976069584&qH=fa331f09cdd30848', '/realme-10-pro-5g-hyperspace-128-gb/p/itm1e672d12a252e?pid=MOBGK8VHZPVGJCES&lid=LSTMOBGK8VHZPVGJCES9YRIWN&marketplace=FLIPKART&q=mobile+phone+5g&store=tyy%2F4io&srno=s_1_13&otracker=search&fm=organic&iid=1ff2c5c6-c70d-4138-84b7-6abdcb463765.MOBGK8VHZPVGJCES.SEARCH&ppt=None&ppn=None&ssid=0rjxlilbm80000001688976069584&qH=fa331f09cdd30848', '/realme-10-pro-5g-hyperspace-128-gb/p/itm1e672d12a252e?pid=MOBGK8VHECUBAZFA&lid=LSTMOBGK8VHECUBAZFAPQMQUM&marketplace=FLIPKART&q=mobile+phone+5g&store=tyy%2F4io&srno=s_1_14&otracker=search&fm=organic&iid=1ff2c5c6-c70d-4138-84b7-6abdcb463765.MOBGK8VHECUBAZFA.SEARCH&ppt=None&ppn=None&ssid=0rjxlilbm80000001688976069584&qH=fa331f09cdd30848', '/realme-10-pro-5g-nebula-blue-128-gb/p/itm1e672d12a252e?pid=MOBGK8VHHFY5VCAY&lid=LSTMOBGK8VHHFY5VCAYOXEXVI&marketplace=FLIPKART&q=mobile+phone+5g&store=tyy%2F4io&srno=s_1_10&otracker=search&fm=organic&iid=1ff2c5c6-c70d-4138-84b7-6abdcb463765.MOBGK8VHHFY5VCAY.SEARCH&ppt=None&ppn=None&ssid=0rjxlilbm80000001688976069584&qH=fa331f09cdd30848', '/realme-10-pro-5g-nebula-blue-128-gb/p/itm1e672d12a252e?pid=MOBGK8VHX6FDJPCE&lid=LSTMOBGK8VHX6FDJPCEW9XIEE&marketplace=FLIPKART&q=mobile+phone+5g&store=tyy%2F4io&srno=s_1_11&otracker=search&fm=organic&iid=1ff2c5c6-c70d-4138-84b7-6abdcb463765.MOBGK8VHX6FDJPCE.SEARCH&ppt=None&ppn=None&ssid=0rjxlilbm80000001688976069584&qH=fa331f09cdd30848', '/vivo-t2-5g-velocity-wave-128-gb/p/itma79eb573156a4?pid=MOBGZBFU2GHZTMGN&lid=LSTMOBGZBFU2GHZTMGNEFEQUV&marketplace=FLIPKART&q=mobile+phone+5g&store=tyy%2F4io&srno=s_1_16&otracker=search&fm=organic&iid=1ff2c5c6-c70d-4138-84b7-6abdcb463765.MOBGZBFU2GHZTMGN.SEARCH&ppt=None&ppn=None&ssid=0rjxlilbm80000001688976069584&qH=fa331f09cdd30848', 'https://brands.flipkart.com', 'https://seller.flipkart.com/sell-online/?utm_source=fkwebsite&utm_medium=websitedirect', 'https://seller.flipkart.com/?utm_source=fkwebsite&utm_medium=websitedirect', '/helpcentre?catalog=55c9c6edb000002e002c1701&view=CATALOG', 'https://www.flipkartcareers.com/?otracker=undefined_footer_navlinks', '/viewcart?exploreMode=true&preference=FLIPKART', '/helpcentre?otracker=undefined_footer_navlinks', '/corporate-information', '/pages/ewaste-compliance-tnc?otracker=undefined_footer_navlinks', '/plus', '/helpcentre?catalog=55c9c8e2b0000023002c1702&view=CATALOG', 'https://www.facebook.com/flipkart', 'http://stories.flipkart.com/?otracker=undefined_footer_navlinks', 'https://www.flipkartwholesale.com/?otracker=undefined_footer_navlinks', '/the-gift-card-store?otracker=undefined_footer_footer_navlinks', '/pages/grievance-redressal-mechanism?otracker=undefined_footer_navlinks', '/helpcentre?otracker=undefined_footer_footer_navlinks', '/', '/account/login?ret=/search%3Fq%3Dmobile%2Bphone%2B5g', '/mobiles/pr?sid=tyy,4io&q=mobile+phone+5g&otracker=categorytree', '/mobiles/pr?sid=tyy,4io&marketplace=FLIPKART', '/mobiles-accessories/pr?sid=tyy&q=mobile+phone+5g&otracker=categorytree', '/mobiles-accessories/pr?sid=tyy&marketplace=FLIPKART', '/buying-guide/mobiles?sid=tyy,4io&otracker=bg_from_browse_lhs', '/search?q=mobile+phone+5g&page=2', '/pages/payments', '/s/press?otracker=undefined_footer_navlinks', '/pages/privacypolicy?otracker=undefined_footer_navlinks', 'https://seller.flipkart.com/fiv?otracker=undefined_footer_navlinks', '/pages/returnpolicy?otracker=undefined_footer_navlinks', '/pages/paymentsecurity?otracker=undefined_footer_navlinks', '/pages/shipping', '/sitemap?otracker=undefined_footer_navlinks', '/pages/terms?otracker=undefined_footer_navlinks', 'https://www.twitter.com/flipkart', 'https://www.youtube.com/flipkart']\n"
          ]
        }
      ]
    },
    {
      "cell_type": "code",
      "source": [],
      "metadata": {
        "id": "HbEgcW56nlw9"
      },
      "execution_count": null,
      "outputs": []
    },
    {
      "cell_type": "code",
      "source": [
        "base_url = 'https://www.flipkart.com/search?q='\n",
        "phone_links= {}\n",
        "for model in name:\n",
        "    # Generate the search URL for the phone model\n",
        "    search_url = base_url + model.replace(' ', '%20')\n",
        "\n",
        "    # Send a GET request to the search URL\n",
        "    response = requests.get(search_url)\n",
        "    soup = BeautifulSoup(response.content, 'html.parser')\n",
        "\n",
        "    # Find the first search result (assuming it is the most relevant)\n",
        "    first_result = soup.find('a', {'class': '_1fQZEK'})\n",
        "\n",
        "    if first_result:\n",
        "        # Extract the link and store it in the dictionary\n",
        "        link = first_result['href']\n",
        "        phone_links[model] = 'https://www.flipkart.com' + link\n",
        "\n",
        "# Print the phone models and their corresponding Flipkart links\n",
        "links = []\n",
        "for model, link in phone_links.items():\n",
        "  links.append(link)"
      ],
      "metadata": {
        "id": "GJ7eS1ngvkaz"
      },
      "execution_count": null,
      "outputs": []
    },
    {
      "cell_type": "code",
      "source": [
        "data = zip(name ,RAM_digit, ROM_digit, Sold_Data, Rating,links)\n",
        "\n",
        "filename = 'merged_data.csv'\n",
        "\n",
        "with open(filename, 'w', newline='') as csvfile:\n",
        "    writer = csv.writer(csvfile)\n",
        "    writer.writerow(['Name', 'RAM', 'ROM', 'Sold Quantity', 'Rating','Links'])  # Write header row\n",
        "    writer.writerows(data)\n",
        "\n",
        "print(f\"Data has been written to {filename}.\")"
      ],
      "metadata": {
        "colab": {
          "base_uri": "https://localhost:8080/"
        },
        "id": "15b2AVvvwRX4",
        "outputId": "76eb3529-4379-4e3f-9142-bb87e4061178"
      },
      "execution_count": null,
      "outputs": [
        {
          "output_type": "stream",
          "name": "stdout",
          "text": [
            "Data has been written to merged_data.csv.\n"
          ]
        }
      ]
    }
  ]
}